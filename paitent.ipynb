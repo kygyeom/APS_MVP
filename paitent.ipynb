{
 "cells": [
  {
   "cell_type": "code",
   "execution_count": null,
   "id": "716be0b0",
   "metadata": {},
   "outputs": [
    {
     "name": "stderr",
     "output_type": "stream",
     "text": [
      "2025-06-11 16:48:55.903 WARNING streamlit.runtime.scriptrunner_utils.script_run_context: Thread 'MainThread': missing ScriptRunContext! This warning can be ignored when running in bare mode.\n",
      "2025-06-11 16:48:55.903 WARNING streamlit.runtime.scriptrunner_utils.script_run_context: Thread 'MainThread': missing ScriptRunContext! This warning can be ignored when running in bare mode.\n",
      "2025-06-11 16:48:55.904 WARNING streamlit.runtime.scriptrunner_utils.script_run_context: Thread 'MainThread': missing ScriptRunContext! This warning can be ignored when running in bare mode.\n",
      "2025-06-11 16:48:55.996 \n",
      "  \u001b[33m\u001b[1mWarning:\u001b[0m to view this Streamlit app on a browser, run it with the following\n",
      "  command:\n",
      "\n",
      "    streamlit run /home/gyeom/anaconda3/envs/MVP/lib/python3.12/site-packages/ipykernel_launcher.py [ARGUMENTS]\n",
      "2025-06-11 16:48:55.997 Thread 'MainThread': missing ScriptRunContext! This warning can be ignored when running in bare mode.\n"
     ]
    },
    {
     "data": {
      "text/plain": [
       "DeltaGenerator()"
      ]
     },
     "execution_count": 1,
     "metadata": {},
     "output_type": "execute_result"
    }
   ],
   "source": [
    "import streamlit as st\n",
    "import pandas as pd\n",
    "import plotly.graph_objects as go\n",
    "import sys\n",
    "sys.path.insert(0, './simglucose')  # 가장 앞에 삽입하여 우선순위 부여\n",
    "\n",
    "df = pd.read_csv(\"adolescent#002_100_500.csv\")\n",
    "df[\"Time\"] = pd.to_datetime(df[\"Time\"])\n",
    "\n",
    "fig = go.Figure()\n",
    "fig.add_trace(go.Scatter(x=df[\"Time\"], y=df[\"BG\"], name=\"실제 혈당\", line=dict(color=\"blue\")))\n",
    "fig.add_trace(go.Scatter(x=df[\"Time\"], y=df[\"CGM\"], name=\"CGM\", line=dict(color=\"green\")))\n",
    "fig.add_trace(go.Scatter(x=df[\"Time\"], y=df[\"insulin\"], name=\"인슐린 주입량\", yaxis=\"y2\", line=dict(color=\"red\")))\n",
    "\n",
    "fig.update_layout(\n",
    "    title=\"혈당 & 인슐린 추이\",\n",
    "    xaxis_title=\"시간\",\n",
    "    yaxis=dict(title=\"혈당 (mg/dL)\"),\n",
    "    yaxis2=dict(title=\"인슐린 (U)\", overlaying=\"y\", side=\"right\")\n",
    ")\n",
    "\n",
    "st.plotly_chart(fig, use_container_width=True)\n"
   ]
  },
  {
   "cell_type": "code",
   "execution_count": 10,
   "id": "693fba34",
   "metadata": {},
   "outputs": [
    {
     "data": {
      "text/plain": [
       "(                   Time          BG         CGM  CHO   insulin\n",
       " 250 2025-01-01 12:30:00  159.204321  166.814767  0.0  0.049725,\n",
       " 0.0769833333333333,\n",
       "                    Time          BG         CGM\n",
       " 251 2025-01-01 12:33:00  170.546782  179.143368\n",
       " 252 2025-01-01 12:36:00  181.483486  190.091604\n",
       " 253 2025-01-01 12:39:00  191.726158  199.467649\n",
       " 254 2025-01-01 12:42:00  201.108748  207.204159\n",
       " 255 2025-01-01 12:45:00  209.565176  213.341857)"
      ]
     },
     "execution_count": 10,
     "metadata": {},
     "output_type": "execute_result"
    }
   ],
   "source": [
    "# 사용자가 목표로 하는 기능을 위한 준비 작업: 특정 시점의 혈당, 인슐린, 식사 정보 추출\n",
    "# 예시로 중간 시점 (index = 250)을 기준으로 이전 30분(10개 샘플) 동안의 정보 제공\n",
    "\n",
    "# 타임 포인트 설정\n",
    "reference_index = 250\n",
    "context_window = 10  # 약 30분 (3분 간격 * 10)\n",
    "\n",
    "# 이전 시점 정보 추출\n",
    "context_df = df.iloc[reference_index - context_window: reference_index + 1][\n",
    "    [\"Time\", \"BG\", \"CGM\", \"CHO\", \"insulin\"]\n",
    "]\n",
    "\n",
    "# AI가 추천한 인슐린 주입량: 이후 시점의 insulin 값\n",
    "ai_insulin = df.iloc[reference_index + 1][\"insulin\"]\n",
    "\n",
    "# 이후 혈당 변화 시계열 (AI 주입 기준)\n",
    "ai_response_df = df.iloc[reference_index + 1 : reference_index + 31][[\"Time\", \"BG\", \"CGM\"]]\n",
    "\n",
    "# 결과 요약\n",
    "context_df.tail(1), ai_insulin, ai_response_df.head(5)\n"
   ]
  },
  {
   "cell_type": "code",
   "execution_count": null,
   "id": "4c674239",
   "metadata": {},
   "outputs": [],
   "source": [
    "import sys\n",
    "sys.path.append('./simglucose')  # simglucose 폴더가 있는 경로\n",
    "\n",
    "from simglucose.simulation.env import T1DSimEnv\n",
    "from simglucose.simulation.scenario_gen import RandomScenario\n",
    "from simglucose.patient.t1dpatient import T1DPatient\n",
    "from simglucose.sensor.cgm import CGMSensor\n",
    "from simglucose.actuator.pump import InsulinPump\n",
    "\n",
    "\n",
    "from simglucose.controller.base import Action\n",
    "import simglucose.simulation.env as env\n",
    "import datetime\n",
    "import matplotlib.pyplot as plt\n",
    "\n",
    "# 시뮬레이션 구성 요소 설정\n",
    "now = datetime.datetime.now()\n",
    "sensor = CGMSensor.withName(\"Dexcom\")\n",
    "pump = InsulinPump.withName(\"Insulet\")\n",
    "patient = T1DPatient.withName(\"adolescent#002\")\n",
    "test_seed = 42\n",
    "scenario = RandomScenario(start_time=now, seed=test_seed)\n",
    "\n",
    "# 환경 초기화\n",
    "env = T1DSimEnv(patient=patient, sensor=sensor, pump=pump, scenario=scenario)\n",
    "state = env.reset()\n",
    "\n",
    "# 사용자 정의 인슐린 주입량 (예: 1.0U)\n",
    "custom_basal = 0.5\n",
    "\n",
    "# 시뮬레이션 실행 (90분, 약 30 step)\n",
    "bg_list = []\n",
    "cgm_list = []\n",
    "time_list = []\n",
    "insulin_list = []\n",
    "insulin_doses = [0.5, 0.4, 0.3, 0.1, 0.3]\n",
    "\n",
    "for i in range(len(insulin_doses)):\n",
    "    obs, reward, done, info = env.step(Action(basal=custom_basal, bolus=insulin_doses[i]))\n",
    "    bg_list.append(obs[0])\n",
    "    cgm_list.append(obs[0])\n",
    "    insulin_list.append(custom_basal)\n",
    "    # time_list.append(obs.time)\n",
    "\n",
    "# 시각화를 위해 데이터프레임 구성\n",
    "sim_result_df = pd.DataFrame({\n",
    "    # \"Time\": time_list,\n",
    "    \"BG\": bg_list,\n",
    "    \"CGM\": cgm_list,\n",
    "    \"Insulin\": insulin_list\n",
    "})\n",
    "\n",
    "%matplotlib inline\n",
    "import matplotlib.pyplot as plt\n",
    "\n",
    "plt.figure(figsize=(10, 5))\n",
    "plt.plot(sim_result_df[\"BG\"], label=\"BG\")\n",
    "plt.plot(sim_result_df[\"CGM\"], label=\"CGM\")\n",
    "plt.plot(sim_result_df[\"Insulin\"], label=\"Insulin\")\n",
    "\n",
    "plt.axhline(70, color='red', linestyle='--', linewidth=1)\n",
    "plt.axhline(180, color='red', linestyle='--', linewidth=1)\n",
    "\n",
    "plt.title(\"Simulated Blood Glucose Response\")\n",
    "plt.xlabel(\"Time Step\")\n",
    "plt.ylabel(\"mg/dL or Units\")\n",
    "plt.legend()\n",
    "plt.grid(True)\n",
    "plt.show()\n"
   ]
  }
 ],
 "metadata": {
  "kernelspec": {
   "display_name": "MVP",
   "language": "python",
   "name": "python3"
  },
  "language_info": {
   "codemirror_mode": {
    "name": "ipython",
    "version": 3
   },
   "file_extension": ".py",
   "mimetype": "text/x-python",
   "name": "python",
   "nbconvert_exporter": "python",
   "pygments_lexer": "ipython3",
   "version": "3.12.7"
  }
 },
 "nbformat": 4,
 "nbformat_minor": 5
}
